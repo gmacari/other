{
 "cells": [
  {
   "cell_type": "markdown",
   "metadata": {},
   "source": [
    "# CASF-2013x2016 testing"
   ]
  },
  {
   "cell_type": "code",
   "execution_count": 1,
   "metadata": {},
   "outputs": [],
   "source": [
    "### basic imports ###\n",
    "import os\n",
    "import _pickle as pickle\n",
    "import pandas as pd\n",
    "import numpy as np\n",
    "import matplotlib\n",
    "import matplotlib.pyplot as plt\n",
    "from sklearn.model_selection import train_test_split\n",
    "from sklearn.ensemble import RandomForestRegressor\n",
    "from sklearn.model_selection import RandomizedSearchCV\n",
    "from sklearn.preprocessing import StandardScaler,Normalizer\n",
    "import time"
   ]
  },
  {
   "cell_type": "code",
   "execution_count": 2,
   "metadata": {},
   "outputs": [],
   "source": [
    "### some useful function ###\n",
    "\n",
    "def getImportance(model, feature_list, top_n=20):\n",
    "    importances = list(model.feature_importances_)\n",
    "    feature_importances = [(feature, round(importance, 4)) for feature, importance in zip(feature_list, importances)]\n",
    "    feature_importances = sorted(feature_importances, key = lambda x: x[1], reverse = True)\n",
    "    [print('Variable: {:20} Importance: {}'.format(*pair)) for pair in feature_importances[:top_n]]\n",
    "    return ['Variable: {:20} Importance: {}'.format(*pair) for pair in feature_importances[:top_n]]\n",
    "\n",
    "def getPerformance(predictions, test_labels):\n",
    "    correlation = np.corrcoef(predictions, test_labels)\n",
    "    errors = abs(predictions -test_labels)\n",
    "    mae = round(np.mean(errors),2)\n",
    "    mape = 100*(errors/test_labels)\n",
    "    accuracy = 100 - np.mean(mape)\n",
    "    rmse = round(np.sqrt(np.mean(np.square(predictions -test_labels))),3)\n",
    "    perfs = {'correlation':correlation,'errors':errors, 'mae':mae, 'mape':mape, 'rmse': rmse,'accuracy':accuracy}\n",
    "\n",
    "    return perfs\n",
    "\n",
    "def printPerformance(prd, casf2016PKD,mlType=''):\n",
    "    casf2016corrcoefficient = round(np.corrcoef(prd, casf2016PKD)[1][0],3)\n",
    "    casf2016perfs = getPerformance(prd, casf2016PKD)\n",
    "    if mlType:\n",
    "        print(f\"{mlType} performance:\")\n",
    "        \n",
    "    print(f\"Correlation Coefficient: R={casf2016corrcoefficient}\")\n",
    "    print(f\"Accuracy: {round(casf2016perfs['accuracy'],3)}\")\n",
    "    print(f\"Mean absolute error: {round(casf2016perfs['mae'],3)}\")\n",
    "    print(f\"Standard error of the errors: {round(np.std(casf2016perfs['errors']),3)}\")\n",
    "    print(f\"RMSE: {round(casf2016perfs['rmse'],3)}\\n\")\n",
    "\n",
    "def readCasfIndex(indexPath):\n",
    "    proteinList = []\n",
    "    with open(indexPath, 'r') as fi:\n",
    "        lines = fi.readlines()\n",
    "        for line in lines:\n",
    "            if line.startswith('#')==False:\n",
    "                proteinList.append(line.split()[0])\n",
    "    return proteinList\n",
    "\n",
    "# automatize training and testing of 4 different model: \n",
    "# Random Forest, SVM, linear regression, KNN\n",
    "\n",
    "def batchMlExecution(X_train, y_train, X_test, y_test):\n",
    "    from sklearn import neighbors\n",
    "    from sklearn.svm import SVR\n",
    "    from sklearn.linear_model import LinearRegression\n",
    "    \n",
    "    scaler = StandardScaler().fit(X_train)\n",
    "    standardizedFeatures = scaler.transform(X_train)\n",
    "    standardizedTest = scaler.transform(X_test)\n",
    "\n",
    "    svr =  SVR()\n",
    "    rf = RandomForestRegressor(n_estimators=100,n_jobs=10)\n",
    "    lr = LinearRegression(normalize=True)\n",
    "    knn = neighbors.KNeighborsRegressor(n_neighbors=10)\n",
    "    \n",
    "    svr.fit(standardizedFeatures, y_train)\n",
    "    rf.fit(X_train, y_train)\n",
    "    lr.fit(X_train, y_train)\n",
    "    knn.fit(X_train, y_train)\n",
    "    \n",
    "    svrPred = svr.predict(standardizedTest)\n",
    "    rfPred = rf.predict(X_test)\n",
    "    lrPred = lr.predict(X_test)\n",
    "    knnPred = knn.predict(X_test)\n",
    "    \n",
    "    svrPerf = getPerformance(svrPred, y_test)\n",
    "    rfPerf = getPerformance(rfPred, y_test)\n",
    "    lrPerf = getPerformance(lrPred, y_test)\n",
    "    knnPerf = getPerformance(knnPred, y_test)\n",
    "    \n",
    "    return svrPerf, rfPerf, lrPerf, knnPerf\n",
    "\n",
    "def plotCorr(prediction, y_test):\n",
    "    matplotlib.style.use('seaborn-ticks')\n",
    "    #vina R= 604\n",
    "    slope, intercept = np.polyfit(prediction, y_test, 1)\n",
    "    abline_values = [slope * i + intercept for i in prediction]\n",
    "    plt.scatter(prediction, y_test, s=40, edgecolors='black')\n",
    "    plt.plot(prediction, abline_values, 'r',linewidth=5)\n",
    "    plt.gcf().set_size_inches((10,10))\n",
    "    plt.xticks(range(0,16,3), fontsize=22)\n",
    "    plt.yticks(range(0,16,3), fontsize=22)\n",
    "    plt.xlabel('Predicted pKd')\n",
    "    plt.ylabel('Experimental pKd')\n",
    "    plt.show()\n",
    "\n",
    "def preparingTrainingSet(inputFeatures, affinityLables, testSetPDBlist, mask=False):\n",
    "    \"\"\"\n",
    "    arguments:\n",
    "        inputFeatures: pandas DataFrame\n",
    "            input dataframe of features\n",
    "        affinityLabels: Dict\n",
    "            dictionary referring to the experimental binding affinity of each ligand\n",
    "        tesSetPDBlist: list\n",
    "            list of pdb belonging to the test set, for filtering reasons\n",
    "        mask: list\n",
    "            additional pdb to remove\n",
    "        \n",
    "    \"\"\"\n",
    "    if mask:\n",
    "        X_train = inputFeatures[inputFeatures['pdb'].isin(mask)]\n",
    "    else:\n",
    "        X_train = inputFeatures\n",
    "    X_train = X_train[~X_train['pdb'].isin(testSetPDBlist)]\n",
    "    X_train = X_train.fillna(0)\n",
    "    \n",
    "    print(f\"Number of samples in training set {len(X_train)}\")\n",
    "    \n",
    "    #saving labels\n",
    "    y_train = [affinityLabels[x] for x in X_train['pdb']]\n",
    "    \n",
    "    X_train = X_train.drop('pdb', axis = 1)\n",
    "    X_train = X_train.drop('Affinity', axis = 1)\n",
    "\n",
    "    \n",
    "    for feat in X_train.columns:\n",
    "        if X_train[feat].std() == 0.0:\n",
    "            X_train.drop(feat, axis = 1, inplace=True)\n",
    "\n",
    "    X_train = X_train.reindex(sorted(X_train.columns), axis=1)\n",
    "    return X_train,y_train\n",
    "\n",
    "def preparingTestSet(X_train, testSet):\n",
    "    X_test = testSet\n",
    "    y_test = [affinityLabels[x] for x in testSet['pdb']]\n",
    "        \n",
    "    X_test = X_test.fillna(0)\n",
    "    X_test = X_test.drop('pdb', axis = 1)\n",
    "    X_test = X_test.drop('Affinity', axis = 1)\n",
    "\n",
    "    for feat in X_test.columns:\n",
    "        if feat not in X_train.columns:\n",
    "            X_test.drop(feat, axis = 1, inplace = True)\n",
    "       \n",
    "    X_test = X_test.reindex(sorted(X_test.columns), axis=1)\n",
    "\n",
    "    print(f\"Number of sample in test set: {len(X_test)}\")\n",
    "    return X_test, y_test"
   ]
  },
  {
   "cell_type": "code",
   "execution_count": 3,
   "metadata": {},
   "outputs": [
    {
     "data": {
      "text/plain": [
       "373"
      ]
     },
     "execution_count": 3,
     "metadata": {},
     "output_type": "execute_result"
    }
   ],
   "source": [
    "### import precalculated features ###\n",
    "import _pickle as pickle\n",
    "\n",
    "with open(\"/home/poltix/PDBBind/PDBBindAffinityAll.pickle\", 'rb') as fi:\n",
    "    affinityLabels = pickle.load(fi)\n",
    "\n",
    "# new dataset comprehend all the PDBBind2018\n",
    "with open('/home/poltix/Documents/pdbbind2018.pickle', 'rb') as fi:\n",
    "    pdbbind2018Features = pickle.load(fi)\n",
    "\n",
    "with open('/home/poltix/Documents/casf_2016_index.txt','r') as fi:\n",
    "    lines = fi.readlines()\n",
    "     \n",
    "casf2016dict = {line.split(' ')[1].lower():float(line.split(' ')[2]) for line in lines}\n",
    "casf2016 = list(casf2016dict)\n",
    "casf2013 = readCasfIndex('/home/poltix/CASF-2013-up/coreset/index/2013_core_data.lst')\n",
    "\n",
    "# merge all the complexes in a single non redundant set\n",
    "casfAll = []\n",
    "#casfAll.extend(casf2007)\n",
    "casfAll.extend(casf2013)\n",
    "casfAll.extend(casf2016)\n",
    "casfAll = list(set(casfAll))\n",
    "len(casfAll)"
   ]
  },
  {
   "cell_type": "code",
   "execution_count": null,
   "metadata": {},
   "outputs": [],
   "source": []
  },
  {
   "cell_type": "code",
   "execution_count": 4,
   "metadata": {},
   "outputs": [],
   "source": [
    "#pdbb2018Index = readCasfIndex('/home/poltix/PDBBind/index/INDEX_refined_data.2018')\n",
    "with open('/home/poltix/Scrivania/Spyder/phCo_revision/pdbFiltered40.txt', 'r') as fi: identityMask40 = fi.read().splitlines()\n",
    "with open('/home/poltix/Scrivania/Spyder/phCo_revision/pdbFiltered50.txt', 'r') as fi: identityMask50 = fi.read().splitlines()\n",
    "with open('/home/poltix/Scrivania/Spyder/phCo_revision/pdbFiltered70.txt', 'r') as fi: identityMask70 = fi.read().splitlines()\n",
    "with open('/home/poltix/Scrivania/Spyder/phCo_revision/pdbFiltered90.txt', 'r') as fi: identityMask90 = fi.read().splitlines()\n",
    "with open('/home/poltix/Scrivania/Spyder/phCo_revision/pdbFiltered100.txt', 'r') as fi: identityMask100 = fi.read().splitlines()\n"
   ]
  },
  {
   "cell_type": "code",
   "execution_count": 5,
   "metadata": {},
   "outputs": [
    {
     "name": "stdout",
     "output_type": "stream",
     "text": [
      "(192, 911)\n",
      "(285, 911)\n",
      "(85, 911)\n",
      "(370, 911)\n",
      "(370, 911)\n"
     ]
    },
    {
     "data": {
      "text/html": [
       "<div>\n",
       "<style scoped>\n",
       "    .dataframe tbody tr th:only-of-type {\n",
       "        vertical-align: middle;\n",
       "    }\n",
       "\n",
       "    .dataframe tbody tr th {\n",
       "        vertical-align: top;\n",
       "    }\n",
       "\n",
       "    .dataframe thead th {\n",
       "        text-align: right;\n",
       "    }\n",
       "</style>\n",
       "<table border=\"1\" class=\"dataframe\">\n",
       "  <thead>\n",
       "    <tr style=\"text-align: right;\">\n",
       "      <th></th>\n",
       "      <th>AR_ARp_1</th>\n",
       "      <th>AR_ARp_2</th>\n",
       "      <th>AR_ARp_3</th>\n",
       "      <th>AR_ARp_4</th>\n",
       "      <th>AR_ARp_5</th>\n",
       "      <th>AR_ARp_6</th>\n",
       "      <th>AR_ARp_7</th>\n",
       "      <th>AR_ARp_8</th>\n",
       "      <th>AR_ARp_9</th>\n",
       "      <th>AR_Ap_1</th>\n",
       "      <th>...</th>\n",
       "      <th>P_Pp_7</th>\n",
       "      <th>P_Pp_8</th>\n",
       "      <th>P_Pp_9</th>\n",
       "      <th>bligand</th>\n",
       "      <th>bprotein</th>\n",
       "      <th>gauss 1</th>\n",
       "      <th>gauss 2</th>\n",
       "      <th>hydrophobic</th>\n",
       "      <th>repulsion</th>\n",
       "      <th>pdb</th>\n",
       "    </tr>\n",
       "  </thead>\n",
       "  <tbody>\n",
       "    <tr>\n",
       "      <th>0</th>\n",
       "      <td>0</td>\n",
       "      <td>32</td>\n",
       "      <td>4</td>\n",
       "      <td>17</td>\n",
       "      <td>57</td>\n",
       "      <td>46</td>\n",
       "      <td>38</td>\n",
       "      <td>77</td>\n",
       "      <td>92</td>\n",
       "      <td>0</td>\n",
       "      <td>...</td>\n",
       "      <td>0</td>\n",
       "      <td>0</td>\n",
       "      <td>0</td>\n",
       "      <td>470.289098</td>\n",
       "      <td>194.579543</td>\n",
       "      <td>112.34222</td>\n",
       "      <td>1556.15735</td>\n",
       "      <td>45.22791</td>\n",
       "      <td>7.71044</td>\n",
       "      <td>2xb8</td>\n",
       "    </tr>\n",
       "    <tr>\n",
       "      <th>1</th>\n",
       "      <td>0</td>\n",
       "      <td>20</td>\n",
       "      <td>16</td>\n",
       "      <td>3</td>\n",
       "      <td>15</td>\n",
       "      <td>35</td>\n",
       "      <td>38</td>\n",
       "      <td>55</td>\n",
       "      <td>85</td>\n",
       "      <td>0</td>\n",
       "      <td>...</td>\n",
       "      <td>0</td>\n",
       "      <td>0</td>\n",
       "      <td>0</td>\n",
       "      <td>508.907453</td>\n",
       "      <td>197.998528</td>\n",
       "      <td>124.89944</td>\n",
       "      <td>1589.85493</td>\n",
       "      <td>53.56811</td>\n",
       "      <td>7.06368</td>\n",
       "      <td>3n76</td>\n",
       "    </tr>\n",
       "    <tr>\n",
       "      <th>2</th>\n",
       "      <td>0</td>\n",
       "      <td>0</td>\n",
       "      <td>0</td>\n",
       "      <td>0</td>\n",
       "      <td>0</td>\n",
       "      <td>0</td>\n",
       "      <td>0</td>\n",
       "      <td>0</td>\n",
       "      <td>0</td>\n",
       "      <td>0</td>\n",
       "      <td>...</td>\n",
       "      <td>0</td>\n",
       "      <td>0</td>\n",
       "      <td>0</td>\n",
       "      <td>306.160553</td>\n",
       "      <td>93.565008</td>\n",
       "      <td>67.82612</td>\n",
       "      <td>861.77083</td>\n",
       "      <td>7.36023</td>\n",
       "      <td>5.50020</td>\n",
       "      <td>3n7a</td>\n",
       "    </tr>\n",
       "    <tr>\n",
       "      <th>3</th>\n",
       "      <td>0</td>\n",
       "      <td>10</td>\n",
       "      <td>26</td>\n",
       "      <td>18</td>\n",
       "      <td>11</td>\n",
       "      <td>31</td>\n",
       "      <td>62</td>\n",
       "      <td>76</td>\n",
       "      <td>65</td>\n",
       "      <td>0</td>\n",
       "      <td>...</td>\n",
       "      <td>0</td>\n",
       "      <td>0</td>\n",
       "      <td>0</td>\n",
       "      <td>520.723733</td>\n",
       "      <td>192.848039</td>\n",
       "      <td>129.89022</td>\n",
       "      <td>1682.94246</td>\n",
       "      <td>47.23877</td>\n",
       "      <td>7.08789</td>\n",
       "      <td>3n86</td>\n",
       "    </tr>\n",
       "    <tr>\n",
       "      <th>4</th>\n",
       "      <td>0</td>\n",
       "      <td>0</td>\n",
       "      <td>0</td>\n",
       "      <td>0</td>\n",
       "      <td>0</td>\n",
       "      <td>0</td>\n",
       "      <td>0</td>\n",
       "      <td>0</td>\n",
       "      <td>0</td>\n",
       "      <td>0</td>\n",
       "      <td>...</td>\n",
       "      <td>0</td>\n",
       "      <td>0</td>\n",
       "      <td>0</td>\n",
       "      <td>366.375425</td>\n",
       "      <td>139.567586</td>\n",
       "      <td>86.81205</td>\n",
       "      <td>1099.02572</td>\n",
       "      <td>12.03979</td>\n",
       "      <td>6.04025</td>\n",
       "      <td>4ciw</td>\n",
       "    </tr>\n",
       "  </tbody>\n",
       "</table>\n",
       "<p>5 rows × 911 columns</p>\n",
       "</div>"
      ],
      "text/plain": [
       "   AR_ARp_1  AR_ARp_2  AR_ARp_3  AR_ARp_4  AR_ARp_5  AR_ARp_6  AR_ARp_7  \\\n",
       "0         0        32         4        17        57        46        38   \n",
       "1         0        20        16         3        15        35        38   \n",
       "2         0         0         0         0         0         0         0   \n",
       "3         0        10        26        18        11        31        62   \n",
       "4         0         0         0         0         0         0         0   \n",
       "\n",
       "   AR_ARp_8  AR_ARp_9  AR_Ap_1  ...   P_Pp_7  P_Pp_8  P_Pp_9     bligand  \\\n",
       "0        77        92        0  ...        0       0       0  470.289098   \n",
       "1        55        85        0  ...        0       0       0  508.907453   \n",
       "2         0         0        0  ...        0       0       0  306.160553   \n",
       "3        76        65        0  ...        0       0       0  520.723733   \n",
       "4         0         0        0  ...        0       0       0  366.375425   \n",
       "\n",
       "     bprotein    gauss 1     gauss 2  hydrophobic  repulsion   pdb  \n",
       "0  194.579543  112.34222  1556.15735     45.22791    7.71044  2xb8  \n",
       "1  197.998528  124.89944  1589.85493     53.56811    7.06368  3n76  \n",
       "2   93.565008   67.82612   861.77083      7.36023    5.50020  3n7a  \n",
       "3  192.848039  129.89022  1682.94246     47.23877    7.08789  3n86  \n",
       "4  139.567586   86.81205  1099.02572     12.03979    6.04025  4ciw  \n",
       "\n",
       "[5 rows x 911 columns]"
      ]
     },
     "execution_count": 5,
     "metadata": {},
     "output_type": "execute_result"
    }
   ],
   "source": [
    "with open('/home/poltix/Documents/casf2013WMetalIon.pickle', 'rb') as fi:\n",
    "    df2013 = pickle.load(fi)\n",
    "with open('/home/poltix/Documents/casf2016WMetalIon.pickle', 'rb') as fi:\n",
    "    df2016 = pickle.load(fi)\n",
    "\n",
    "print(df2013.shape)\n",
    "print(df2016.shape)\n",
    "dfnr = df2013[~df2013['pdb'].isin(df2016['pdb'])]\n",
    "print(dfnr.shape)\n",
    "dfAll = df2016.append(dfnr,ignore_index = True)\n",
    "print(dfAll.shape)\n",
    "print(dfAll.shape)\n",
    "dfAll.head()"
   ]
  },
  {
   "cell_type": "code",
   "execution_count": 6,
   "metadata": {},
   "outputs": [],
   "source": [
    "vinaff = dfAll['Affinity']"
   ]
  },
  {
   "cell_type": "code",
   "execution_count": 7,
   "metadata": {},
   "outputs": [
    {
     "name": "stdout",
     "output_type": "stream",
     "text": [
      "Number of samples in training set 12002\n",
      "Number of sample in test set: 370\n"
     ]
    }
   ],
   "source": [
    "X_train100, y_train100 = preparingTrainingSet(pdbbind2018Features, affinityLabels, casfAll, identityMask100)\n",
    "X_test100, y_test100 = preparingTestSet(X_train100, dfAll)\n",
    "svrPerf100, rfPerf100, lrPerf100, knnPerf100 = batchMlExecution(X_train100, y_train100, X_test100, y_test100)"
   ]
  },
  {
   "cell_type": "code",
   "execution_count": 8,
   "metadata": {},
   "outputs": [
    {
     "name": "stdout",
     "output_type": "stream",
     "text": [
      "Number of samples in training set 10943\n",
      "Number of sample in test set: 370\n"
     ]
    }
   ],
   "source": [
    "X_train90, y_train90 = preparingTrainingSet(pdbbind2018Features, affinityLabels, casfAll, identityMask90)\n",
    "X_test90, y_test90 = preparingTestSet(X_train90, dfAll)\n",
    "svrPerf90, rfPerf90, lrPerf90, knnPerf90 = batchMlExecution(X_train90, y_train90, X_test90, y_test90)"
   ]
  },
  {
   "cell_type": "code",
   "execution_count": 9,
   "metadata": {},
   "outputs": [
    {
     "name": "stdout",
     "output_type": "stream",
     "text": [
      "Number of samples in training set 10523\n",
      "Number of sample in test set: 370\n"
     ]
    }
   ],
   "source": [
    "X_train70, y_train70 = preparingTrainingSet(pdbbind2018Features, affinityLabels, casfAll, identityMask70)\n",
    "X_test70, y_test70 = preparingTestSet(X_train70, dfAll)\n",
    "svrPerf70, rfPerf70, lrPerf70, knnPerf70 = batchMlExecution(X_train70, y_train70, X_test70, y_test70)"
   ]
  },
  {
   "cell_type": "code",
   "execution_count": 10,
   "metadata": {},
   "outputs": [
    {
     "name": "stdout",
     "output_type": "stream",
     "text": [
      "Number of samples in training set 10173\n",
      "Number of sample in test set: 370\n"
     ]
    }
   ],
   "source": [
    "X_train50, y_train50 = preparingTrainingSet(pdbbind2018Features, affinityLabels, casfAll, identityMask50)\n",
    "X_test50, y_test50 = preparingTestSet(X_train50, dfAll)\n",
    "svrPerf50, rfPerf50, lrPerf50, knnPerf50 = batchMlExecution(X_train50, y_train50, X_test50, y_test50)"
   ]
  },
  {
   "cell_type": "code",
   "execution_count": 11,
   "metadata": {},
   "outputs": [
    {
     "name": "stdout",
     "output_type": "stream",
     "text": [
      "Number of samples in training set 9597\n",
      "Number of sample in test set: 370\n"
     ]
    }
   ],
   "source": [
    "X_train40, y_train40 = preparingTrainingSet(pdbbind2018Features, affinityLabels, casfAll, identityMask40)\n",
    "X_test40, y_test40 = preparingTestSet(X_train40, dfAll)\n",
    "svrPerf40, rfPerf40, lrPerf40, knnPerf40 = batchMlExecution(X_train40, y_train40, X_test40, y_test40)"
   ]
  },
  {
   "cell_type": "code",
   "execution_count": 12,
   "metadata": {},
   "outputs": [
    {
     "name": "stdout",
     "output_type": "stream",
     "text": [
      "Number of samples in training set 15698\n",
      "Number of sample in test set: 370\n"
     ]
    }
   ],
   "source": [
    "X_train, y_train = preparingTrainingSet(pdbbind2018Features, affinityLabels, casfAll)\n",
    "X_test, y_test = preparingTestSet(X_train, dfAll)\n",
    "SVRPerf, RFPerf, LRPerf, KNNPerf = batchMlExecution(X_train, y_train, X_test, y_test)"
   ]
  },
  {
   "cell_type": "code",
   "execution_count": 13,
   "metadata": {},
   "outputs": [
    {
     "name": "stdout",
     "output_type": "stream",
     "text": [
      "Correlation Coefficient: R=0.808\n",
      "Accuracy: 79.325\n",
      "Mean absolute error: 1.12\n",
      "Standard error of the errors: 0.81\n",
      "RMSE: 1.384\n",
      "\n"
     ]
    }
   ],
   "source": [
    "rfopt = RandomForestRegressor(bootstrap=True, criterion='mse', max_depth=None,\n",
    "           max_features=365, max_leaf_nodes=None,\n",
    "           min_impurity_decrease=0.0, min_impurity_split=None,\n",
    "           min_samples_leaf=1, min_samples_split=5,\n",
    "           min_weight_fraction_leaf=0.0, n_estimators=500, n_jobs=None,\n",
    "           oob_score=False, random_state=None, verbose=0, warm_start=False)\n",
    "rfopt.fit(X_train, y_train)\n",
    "optRF = rfopt.predict(X_test)\n",
    "printPerformance(optRF, y_test)"
   ]
  },
  {
   "cell_type": "code",
   "execution_count": null,
   "metadata": {},
   "outputs": [],
   "source": []
  },
  {
   "cell_type": "code",
   "execution_count": 14,
   "metadata": {},
   "outputs": [],
   "source": [
    "SASAFeaturesPDBBind = X_train[['CSA','bligand','bprotein']]\n",
    "SASACasf = X_test[['CSA','bligand','bprotein']]\n",
    "\n",
    "SASASVRPerf, SASARFPerf, SASALRPerf, SASAKNNPerf = batchMlExecution(SASAFeaturesPDBBind, y_train, SASACasf, y_test)"
   ]
  },
  {
   "cell_type": "code",
   "execution_count": 15,
   "metadata": {},
   "outputs": [],
   "source": [
    "vinaFeaturesPDBBind = X_train[[\"gauss 1\", \"gauss 2\",\"hydrophobic\", \"repulsion\",\"Hydrogen\", \"Ntors\"]]\n",
    "vinaCasf = X_test[[\"gauss 1\", \"gauss 2\",\"hydrophobic\", \"repulsion\",\"Hydrogen\", \"Ntors\"]]\n",
    "\n",
    "vinaSVRPerf, vinaRFPerf, vinaLRPerf, vinaKNNPerf = batchMlExecution(vinaFeaturesPDBBind, y_train, vinaCasf, y_test)"
   ]
  },
  {
   "cell_type": "code",
   "execution_count": 16,
   "metadata": {},
   "outputs": [],
   "source": [
    "featureMask = ['CSA','bligand','bprotein',\"gauss 1\", \"gauss 2\",\"hydrophobic\", \"repulsion\",\"Hydrogen\", \"Ntors\"]\n",
    "phCoFeaturesPDBBind = X_train.drop(featureMask, axis = 1)\n",
    "phCoCasf = X_test.drop(featureMask, axis = 1)\n",
    "\n",
    "phCoSVRPerf, phCoRFPerf, phCoLRPerf, phCoKNNPerf = batchMlExecution(phCoFeaturesPDBBind, y_train, phCoCasf, y_test)"
   ]
  },
  {
   "cell_type": "code",
   "execution_count": 17,
   "metadata": {},
   "outputs": [],
   "source": [
    "visaFeaturesPDBBind = X_train[['CSA','bligand','bprotein',\"gauss 1\", \"gauss 2\",\"hydrophobic\", \"repulsion\",\"Hydrogen\", \"Ntors\"]]\n",
    "visaCasf = X_test[['CSA','bligand','bprotein',\"gauss 1\", \"gauss 2\",\"hydrophobic\", \"repulsion\",\"Hydrogen\", \"Ntors\"]]\n",
    "\n",
    "visaSVRPerf, visaRFPerf, visaLRPerf, visaKNNPerf = batchMlExecution(visaFeaturesPDBBind, y_train, visaCasf, y_test)"
   ]
  },
  {
   "cell_type": "code",
   "execution_count": 18,
   "metadata": {},
   "outputs": [],
   "source": [
    "featureMask = ['CSA','bligand','bprotein']\n",
    "viphFeaturesPDBBind = X_train.drop(featureMask, axis = 1)\n",
    "viphCasf = X_test.drop(featureMask, axis = 1)\n",
    "\n",
    "viphSVRPerf, viphRFPerf, viphLRPerf, viphKNNPerf = batchMlExecution(viphFeaturesPDBBind, y_train, viphCasf, y_test)"
   ]
  },
  {
   "cell_type": "code",
   "execution_count": 19,
   "metadata": {},
   "outputs": [],
   "source": [
    "featureMask = [\"gauss 1\", \"gauss 2\",\"hydrophobic\", \"repulsion\",\"Hydrogen\", \"Ntors\"]\n",
    "saphiFeaturesPDBBind = X_train.drop(featureMask, axis = 1)\n",
    "saphiCasf = X_test.drop(featureMask, axis = 1)\n",
    "\n",
    "saphiSVRPerf, saphiRFPerf, saphiLRPerf, saphiKNNPerf = batchMlExecution(saphiFeaturesPDBBind, y_train, saphiCasf, y_test)"
   ]
  },
  {
   "cell_type": "code",
   "execution_count": 20,
   "metadata": {},
   "outputs": [
    {
     "name": "stdout",
     "output_type": "stream",
     "text": [
      "Correlation Coefficient: R=0.812\n",
      "Accuracy: 78.932\n",
      "Mean absolute error: 1.13\n",
      "Standard error of the errors: 0.822\n",
      "RMSE: 1.398\n",
      "\n"
     ]
    }
   ],
   "source": [
    "rfopt = RandomForestRegressor(n_jobs=-1, n_estimators=500, max_features=0.33)\n",
    "rfopt.fit(phCoFeaturesPDBBind, y_train)\n",
    "optRF = rfopt.predict(phCoCasf)\n",
    "printPerformance(optRF, y_test)"
   ]
  },
  {
   "cell_type": "code",
   "execution_count": null,
   "metadata": {},
   "outputs": [],
   "source": []
  },
  {
   "cell_type": "code",
   "execution_count": null,
   "metadata": {},
   "outputs": [],
   "source": []
  },
  {
   "cell_type": "code",
   "execution_count": null,
   "metadata": {},
   "outputs": [],
   "source": []
  },
  {
   "cell_type": "code",
   "execution_count": null,
   "metadata": {},
   "outputs": [],
   "source": []
  },
  {
   "cell_type": "code",
   "execution_count": 21,
   "metadata": {},
   "outputs": [],
   "source": [
    "\n",
    "with open('/home/poltix/Scrivania/Spyder/phCo_revision/filteredByTanimoto2013.tx', 'r') as fi:\n",
    "    tanimotoMask2013 = fi.read().splitlines()\n",
    "\n",
    "with open('/home/poltix/Scrivania/Spyder/phCo_revision/filteredByTanimoto2016.tx', 'r') as fi:\n",
    "    tanimotoMask2016 = fi.read().splitlines()"
   ]
  },
  {
   "cell_type": "code",
   "execution_count": 22,
   "metadata": {},
   "outputs": [
    {
     "data": {
      "text/plain": [
       "13265"
      ]
     },
     "execution_count": 22,
     "metadata": {},
     "output_type": "execute_result"
    }
   ],
   "source": [
    "len(tanimotoMask2013)"
   ]
  },
  {
   "cell_type": "code",
   "execution_count": 23,
   "metadata": {},
   "outputs": [
    {
     "name": "stdout",
     "output_type": "stream",
     "text": [
      "13514\n",
      "Number of samples in training set 13194\n",
      "Number of sample in test set: 370\n"
     ]
    }
   ],
   "source": [
    "#prepare training set\n",
    "\n",
    "# removing from features all the complexes in CASF\n",
    "#featuresTanimoto = pdbbind2018Features[pdbbind2018Features['pdb'].isin(tanimotoMask2016)]\n",
    "#featuresTanimoto = pdbbind2018Features[pdbbind2018Features['pdb'].isin(tanimotoMask2013)]\n",
    "\n",
    "tanimotoMask2013.extend(tanimotoMask2016)\n",
    "taniMask = set(tanimotoMask2013)\n",
    "print(len(taniMask))\n",
    "# print(f\"Number of complexes in the trainin set {len(featuresTanimoto)}\")\n",
    "# print(f\"Number of complexe in CASF-2016: {len(casfAll)}\")\n",
    "# print(f\"Features calculated for {len(dfAll)}\")\n",
    "\n",
    "X_trainTani, y_trainTani = preparingTrainingSet(pdbbind2018Features, affinityLabels, casfAll, taniMask)\n",
    "X_testTani, y_testTani = preparingTestSet(X_trainTani, dfAll)"
   ]
  },
  {
   "cell_type": "code",
   "execution_count": 24,
   "metadata": {},
   "outputs": [
    {
     "name": "stdout",
     "output_type": "stream",
     "text": [
      "13145\n"
     ]
    }
   ],
   "source": [
    "print(len(set(tanimotoMask2016)))"
   ]
  },
  {
   "cell_type": "code",
   "execution_count": 25,
   "metadata": {},
   "outputs": [],
   "source": [
    "taniSVRPerf, taniRFPerf, taniLRPerf, taniKNNPerf = batchMlExecution(X_trainTani, y_trainTani, X_testTani, y_testTani)"
   ]
  },
  {
   "cell_type": "code",
   "execution_count": 26,
   "metadata": {},
   "outputs": [],
   "source": [
    "performances = [[taniSVRPerf['correlation'][0][1], taniRFPerf['correlation'][0][1],\n",
    "                 taniLRPerf['correlation'][0][1], taniKNNPerf['correlation'][0][1]],\n",
    "                [svrPerf40['correlation'][0][1], rfPerf40['correlation'][0][1],\n",
    "                 lrPerf40['correlation'][0][1], knnPerf40['correlation'][0][1]],\n",
    "                [svrPerf50['correlation'][0][1], rfPerf50['correlation'][0][1],\n",
    "                 lrPerf50['correlation'][0][1], knnPerf50['correlation'][0][1]],\n",
    "                [svrPerf70['correlation'][0][1], rfPerf70['correlation'][0][1],\n",
    "                 lrPerf70['correlation'][0][1], knnPerf70['correlation'][0][1]],\n",
    "                [svrPerf90['correlation'][0][1], rfPerf90['correlation'][0][1],\n",
    "                 lrPerf90['correlation'][0][1], knnPerf90['correlation'][0][1]],\n",
    "               [svrPerf100['correlation'][0][1], rfPerf100['correlation'][0][1],\n",
    "                 lrPerf100['correlation'][0][1], knnPerf100['correlation'][0][1]],\n",
    "               [SVRPerf['correlation'][0][1], RFPerf['correlation'][0][1], LRPerf['correlation'][0][1], KNNPerf['correlation'][0][1]]\n",
    "               ]"
   ]
  },
  {
   "cell_type": "code",
   "execution_count": 27,
   "metadata": {
    "scrolled": true
   },
   "outputs": [
    {
     "data": {
      "image/png": "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\n",
      "text/plain": [
       "<Figure size 432x288 with 2 Axes>"
      ]
     },
     "metadata": {
      "needs_background": "light"
     },
     "output_type": "display_data"
    }
   ],
   "source": [
    "xtick = ['SVM','RF','LR','KNN']\n",
    "ytick = ['tani','40%','50%','70%','90%','100%','All']\n",
    "\n",
    "fig = plt.figure()\n",
    "ax = fig.add_subplot(111)\n",
    "cax = ax.matshow(performances, interpolation='nearest')\n",
    "fig.colorbar(cax)\n",
    "\n",
    "for (i, j), z in np.ndenumerate(performances):\n",
    "    ax.text(j, i, '{:0.2f}'.format(z), ha='center', va='center')\n",
    "\n",
    "ax.set_xticklabels(['']+xtick)\n",
    "ax.set_yticklabels(['']+ytick, rotation=90)\n",
    "\n",
    "#plt.savefig(\"/home/poltix/Scrivania/Spyder/phCo_revision/matrix_plotv2.tiff\", dpi=300)\n",
    "plt.show()"
   ]
  },
     "execution_count": 28,
     "metadata": {},
     "output_type": "execute_result"
    }
   ],
   "source": [
    "visaSVRPerf, viphSVRPerf, saphiSVRPerf\n",
    "visaRFPerf, viphRFPerf, saphiRFPerf\n",
    "visaLRPerf, viphLRPerf, saphiLRPerf\n",
    "visaKNNPerf, viphKNNPerf, saphiKNNPerf  "
   ]
  },
  {
   "cell_type": "code",
   "execution_count": 29,
   "metadata": {},
   "outputs": [
    {
     "data": {
      "text/plain": [
       "([<matplotlib.axis.XTick at 0x7f196f20db00>,\n",
       "  <matplotlib.axis.XTick at 0x7f196f20d4a8>,\n",
       "  <matplotlib.axis.XTick at 0x7f196f20d358>,\n",
       "  <matplotlib.axis.XTick at 0x7f196eee86d8>,\n",
       "  <matplotlib.axis.XTick at 0x7f196eee8ba8>,\n",
       "  <matplotlib.axis.XTick at 0x7f196eef4128>,\n",
       "  <matplotlib.axis.XTick at 0x7f196eef4588>],\n",
       " <a list of 7 Text xticklabel objects>)"
      ]
     },
     "execution_count": 29,
     "metadata": {},
     "output_type": "execute_result"
    },
    {
     "data": {
      "image/png": "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\n",
      "text/plain": [
       "<Figure size 576x576 with 1 Axes>"
      ]
     },
     "metadata": {
      "needs_background": "light"
     },
     "output_type": "display_data"
    }
   ],
   "source": [
    "# plotting\n",
    "\n",
    "rfCorrelation = (SASARFPerf['correlation'][1][0], vinaRFPerf['correlation'][1][0], phCoRFPerf['correlation'][1][0], RFPerf['correlation'][1][0],visaRFPerf['correlation'][1][0],viphRFPerf['correlation'][1][0],saphiRFPerf['correlation'][1][0])\n",
    "SVMCorrelation = (SASASVRPerf['correlation'][1][0], vinaSVRPerf['correlation'][1][0], phCoSVRPerf['correlation'][1][0], SVRPerf['correlation'][1][0],visaSVRPerf['correlation'][1][0], viphSVRPerf['correlation'][1][0], saphiSVRPerf['correlation'][1][0])\n",
    "LRCorrelation = (SASALRPerf['correlation'][1][0], vinaLRPerf['correlation'][1][0], phCoLRPerf['correlation'][1][0], LRPerf['correlation'][1][0],visaLRPerf['correlation'][1][0], viphLRPerf['correlation'][1][0], saphiLRPerf['correlation'][1][0])\n",
    "KNNCorrelation = (SASAKNNPerf['correlation'][1][0], vinaKNNPerf['correlation'][1][0], phCoKNNPerf['correlation'][1][0], KNNPerf['correlation'][1][0],visaKNNPerf['correlation'][1][0], viphKNNPerf['correlation'][1][0], saphiKNNPerf['correlation'][1][0])\n",
    "SASACorr = [SASARFPerf['correlation'][1][0], SASASVRPerf['correlation'][1][0], SASALRPerf['correlation'][1][0], SASAKNNPerf['correlation'][1][0]]\n",
    "vinaCorr = [vinaRFPerf['correlation'][1][0], vinaSVRPerf['correlation'][1][0], vinaLRPerf['correlation'][1][0], vinaKNNPerf['correlation'][1][0]]\n",
    "phCoCorr = [phCoRFPerf['correlation'][1][0], phCoSVRPerf['correlation'][1][0], phCoLRPerf['correlation'][1][0], phCoKNNPerf['correlation'][1][0]]\n",
    "\n",
    "\n",
    "import matplotlib.pyplot as plt\n",
    "import numpy as np\n",
    "#data = [SASACorr, vinaCorr, phCoCorr]\n",
    "x = np.array([1,2.5,4,5.5,7,8.5,10])\n",
    "fig,ax = plt.subplots()\n",
    "#ax = fig.add_axes([0,0,1,1])\n",
    "plt.gcf().set_size_inches((8, 8))\n",
    "ax.bar(x+0.00, rfCorrelation, color='b', width=0.25, label='RF')\n",
    "ax.bar(x+0.25, SVMCorrelation, color='g', width=0.25, label='SVM')\n",
    "ax.bar(x+0.50, LRCorrelation, color='r', width=0.25, label='LR')\n",
    "ax.bar(x+0.75, KNNCorrelation, color='y', width=0.25, label='KNN')\n",
    "ax.legend()\n",
    "plt.xticks(x + 0.36, ('SASA', 'Vina', 'phCo', 'All', 'Vina+SASA', 'Vina+phCo','SASA+phCo'))\n",
    "#plt.savefig(\"/home/poltix/Scrivania/Spyder/phCo_revision/mlShowdown3.pdf\")\n"
   ]
  },
  {
   "cell_type": "code",
   "execution_count": 45,
   "metadata": {},
   "outputs": [
    {
     "data": {
      "image/png": "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\n",
      "text/plain": [
       "<Figure size 648x216 with 1 Axes>"
      ]
     },
     "metadata": {
      "needs_background": "light"
     },
     "output_type": "display_data"
    }
   ],
   "source": [
    "# plotting\n",
    "\n",
    "rfCorrelation = (SASARFPerf['correlation'][1][0], vinaRFPerf['correlation'][1][0], phCoRFPerf['correlation'][1][0], RFPerf['correlation'][1][0],visaRFPerf['correlation'][1][0],viphRFPerf['correlation'][1][0],saphiRFPerf['correlation'][1][0])\n",
    "SVMCorrelation = (SASASVRPerf['correlation'][1][0], vinaSVRPerf['correlation'][1][0], phCoSVRPerf['correlation'][1][0], SVRPerf['correlation'][1][0],visaSVRPerf['correlation'][1][0], viphSVRPerf['correlation'][1][0], saphiSVRPerf['correlation'][1][0])\n",
    "LRCorrelation = (SASALRPerf['correlation'][1][0], vinaLRPerf['correlation'][1][0], phCoLRPerf['correlation'][1][0], LRPerf['correlation'][1][0],visaLRPerf['correlation'][1][0], viphLRPerf['correlation'][1][0], saphiLRPerf['correlation'][1][0])\n",
    "KNNCorrelation = (SASAKNNPerf['correlation'][1][0], vinaKNNPerf['correlation'][1][0], phCoKNNPerf['correlation'][1][0], KNNPerf['correlation'][1][0],visaKNNPerf['correlation'][1][0], viphKNNPerf['correlation'][1][0], saphiKNNPerf['correlation'][1][0])\n",
    "SASACorr = [SASARFPerf['correlation'][1][0], SASASVRPerf['correlation'][1][0], SASALRPerf['correlation'][1][0], SASAKNNPerf['correlation'][1][0]]\n",
    "vinaCorr = [vinaRFPerf['correlation'][1][0], vinaSVRPerf['correlation'][1][0], vinaLRPerf['correlation'][1][0], vinaKNNPerf['correlation'][1][0]]\n",
    "phCoCorr = [phCoRFPerf['correlation'][1][0], phCoSVRPerf['correlation'][1][0], phCoLRPerf['correlation'][1][0], phCoKNNPerf['correlation'][1][0]]\n",
    "\n",
    "names = ['SASA', 'Vina', 'phCo', 'All', 'Vina+SASA', 'Vina+phCo','SASA+phCo']\n",
    "import matplotlib.pyplot as plt\n",
    "import numpy as np\n",
    "#data = [SASACorr, vinaCorr, phCoCorr]\n",
    "x = np.array([1,2.5,4,5.5,7,8.5,10])\n",
    "plt.figure(figsize=(9,3))\n",
    "plt.plot(rfCorrelation, label='RF')\n",
    "plt.plot(LRCorrelation, label='LR')\n",
    "plt.plot(SVMCorrelation, label='SVM')\n",
    "plt.plot(KNNCorrelation, label='KNN')\n",
    "plt.plot(names,rfCorrelation,'sb')\n",
    "plt.plot(names,SVMCorrelation,'sg')\n",
    "plt.plot(names,LRCorrelation,'sy')\n",
    "plt.plot(names,KNNCorrelation,'sr')\n",
    "xbase = np.linspace(0, len(x))\n",
    "ybase = 0*xbase+0.58\n",
    "#axes2 = plt.twinx()\n",
    "plt.plot(xbase, ybase, color='violet', linestyle = '--', label='Vina')\n",
    "plt.legend()\n",
    "# multiple line plot\n",
    "plt.show\n",
    "plt.savefig(\"/home/poltix/Scrivania/Spyder/phCo_revision/mlShowdown4.tiff\", DPI=300)\n"
   ]
  },
  {
   "cell_type": "code",
   "execution_count": 39,
   "metadata": {},
   "outputs": [],
   "source": [
    "vinaff = np.array([-1*v for v in vinaff])\n",
    "vinaPerf = getPerformance(vinaff,y_test)"
   ]
  },
  {
   "cell_type": "code",
   "execution_count": 40,
   "metadata": {},
   "outputs": [
    {
     "data": {
      "text/plain": [
       "{'correlation': array([[1.        , 0.58419157],\n",
       "        [0.58419157, 1.        ]]),\n",
       " 'errors': array([2.08911335, 2.98513804, 3.11633   , 5.28787784, 2.70739126,\n",
       "        0.99907126, 3.72559   , 1.11505927, 2.98251   , 3.37967874,\n",
       "        1.78279732, 3.4768352 , 2.23084291, 1.54752999, 0.25277355,\n",
       "        2.26048335, 4.76578846, 3.54092647, 0.61660999, 1.32232251,\n",
       "        1.11389305, 1.82515371, 0.39601   , 0.89199376, 0.99739196,\n",
       "        4.51933334, 0.98541335, 2.03148587, 0.92328874, 0.48156624,\n",
       "        3.19622359, 1.45645892, 1.28872376, 1.95807999, 1.40598125,\n",
       "        1.72527126, 0.36992126, 0.44592696, 2.11739891, 1.6848565 ,\n",
       "        0.69538075, 1.95174929, 1.31010125, 1.57485251, 3.93890727,\n",
       "        1.03654394, 0.63020123, 0.39375122, 1.45471664, 2.72688266,\n",
       "        2.58315999, 1.26047125, 2.03998126, 2.14019251, 2.00162999,\n",
       "        1.61839268, 0.19676335, 2.43753269, 3.48416359, 2.82569125,\n",
       "        1.26249901, 0.55288387, 0.81267029, 1.57510392, 1.66852875,\n",
       "        1.67431251, 3.17230173, 4.25986804, 2.6469836 , 0.03504892,\n",
       "        1.03526393, 0.31173731, 1.90810163, 0.69164999, 1.96133929,\n",
       "        1.02717908, 4.01894511, 1.50708998, 0.71079615, 1.78595269,\n",
       "        1.33985   , 0.51182731, 1.67011335, 0.15763732, 1.57268615,\n",
       "        1.21138805, 1.87238269, 1.56361125, 0.62480124, 2.81988749,\n",
       "        0.42139035, 2.89031   , 1.51070071, 1.70531002, 1.26571   ,\n",
       "        1.10378   , 1.19895892, 1.80926393, 3.97479572, 5.68800182,\n",
       "        1.40167804, 0.17390125, 2.14984627, 1.25487172, 2.21692   ,\n",
       "        1.42468378, 1.43301722, 1.32827173, 3.03054929, 2.20372334,\n",
       "        1.30197804, 2.36317999, 2.30501125, 3.91425784, 0.50108   ,\n",
       "        0.76844385, 1.88592196, 0.8517036 , 2.40684172, 1.86028501,\n",
       "        2.14979999, 2.47158125, 0.9699536 , 0.08571875, 1.57601   ,\n",
       "        1.28898874, 1.68602377, 1.22009999, 5.48283805, 1.1257525 ,\n",
       "        3.65702268, 0.81887126, 2.33170124, 1.85801   , 3.18007126,\n",
       "        0.16672783, 3.44986   , 0.016058  , 1.17223269, 3.04899632,\n",
       "        0.40082998, 0.12600003, 3.33905445, 0.14792999, 2.58777125,\n",
       "        0.97520621, 0.34478   , 1.55945073, 1.39115055, 1.36827126,\n",
       "        3.07871169, 4.46602502, 5.62886437, 4.25194709, 4.40072263,\n",
       "        3.71685891, 3.17164709, 6.65780804, 1.91338909, 1.58675125,\n",
       "        3.75175893, 2.80227359, 3.92800736, 6.5029119 , 3.93921377,\n",
       "        0.79121196, 2.39680126, 2.55737378, 0.7299548 , 0.35004803,\n",
       "        3.18122124, 3.39256   , 4.02937804, 4.06196124, 2.30663485,\n",
       "        0.2398    , 0.87352804, 2.40126001, 0.51559001, 1.58936268,\n",
       "        4.02720123, 3.77291376, 3.41744   , 2.48372   , 3.43983018,\n",
       "        1.8395    , 0.854192  , 1.79746394, 3.08951   , 0.02057395,\n",
       "        0.69763   , 2.03109   , 2.76602073, 2.42783874, 3.52301269,\n",
       "        1.03613804, 3.14208804, 1.88995269, 1.01669   , 2.75800287,\n",
       "        0.48883875, 0.65376002, 0.19594875, 1.09304845, 2.18841999,\n",
       "        0.06433169, 2.73012709, 0.63769196, 1.6557646 , 2.26547799,\n",
       "        1.26278251, 0.52632201, 4.72013   , 2.11486119, 1.05459999,\n",
       "        4.30585803, 2.1030525 , 3.33793057, 1.3258818 , 0.982728  ,\n",
       "        0.59450001, 4.27537269, 0.6068373 , 0.17054731, 1.18255875,\n",
       "        1.01315875, 1.24898551, 2.14299786, 2.8681236 , 3.69751323,\n",
       "        2.99616999, 4.26038461, 2.95477998, 4.70358622, 5.50509434,\n",
       "        0.36743876, 0.35012216, 0.97044892, 2.22970109, 0.98473861,\n",
       "        3.72933587, 3.35621486, 1.06279999, 2.88249268, 0.99880875,\n",
       "        2.45286124, 2.66406297, 1.24421173, 2.19210269, 2.97224695,\n",
       "        2.59621501, 1.45484361, 1.91564091, 1.56244   , 2.63692712,\n",
       "        0.77581   , 2.16306   , 1.29308268, 1.90929057, 1.23161   ,\n",
       "        1.62431002, 0.79179804, 5.40793997, 2.35234216, 1.33939251,\n",
       "        2.25014268, 0.6687436 , 0.59707   , 1.01255875, 0.93455786,\n",
       "        0.33231268, 1.02477   , 0.62812125, 0.59088696, 0.26249875,\n",
       "        3.72016125, 1.77322998, 0.53724999, 0.5714625 , 1.13814786,\n",
       "        1.27631173, 0.06971108, 0.11994001, 1.55349831, 1.70656479,\n",
       "        0.12231666, 0.52013804, 1.76781126, 2.15853251, 0.56491336,\n",
       "        1.5330264 , 2.48410809, 1.21425647, 4.00384722, 0.01080999,\n",
       "        0.58299462, 0.61989784, 0.75765217, 0.73207268, 2.79682   ,\n",
       "        3.98700335, 2.77395809, 1.67432646, 4.71596875, 0.40931   ,\n",
       "        2.58747001, 2.37448999, 0.98723   , 0.22679201, 2.99897   ,\n",
       "        0.86679606, 2.32537732, 0.30130537, 0.32225999, 1.36647295,\n",
       "        4.34285801, 0.91521125, 1.48263   , 0.67461731, 1.65332497,\n",
       "        1.46029334, 0.657598  , 2.37665628, 1.05726   , 1.95307804,\n",
       "        1.49674125, 2.60703368, 0.51591998, 0.7687825 , 1.68762   ,\n",
       "        3.65229803, 0.85657803, 2.86373269, 3.11027845, 3.63941731,\n",
       "        0.07758   , 0.2219    , 2.65631125, 1.58676002, 2.4036246 ,\n",
       "        2.68345875, 1.89344001, 2.41290997, 1.83271001, 0.45158875,\n",
       "        2.23782733, 0.34244002, 2.78069172, 0.11417548, 3.49059   ,\n",
       "        1.02317799, 0.84038804, 0.96930335, 0.10592729, 0.88364624,\n",
       "        5.78164062, 1.8072824 , 3.4633    , 0.06458216, 0.92916664,\n",
       "        0.57825481, 0.54539875, 0.5190136 , 0.51614003, 1.79353196,\n",
       "        2.57088169, 6.31468   , 1.24034386, 0.57119805, 0.51112892]),\n",
       " 'mae': 1.88,\n",
       " 'mape': array([2.75425973e+01, 4.35540385e+01, 8.42485879e+01, 9.37854308e+01,\n",
       "        5.61244295e+01, 1.63115307e+01, 7.45118000e+01, 1.10254437e+01,\n",
       "        2.63914882e+01, 2.85834305e+01, 2.05923349e+01, 3.41739803e+01,\n",
       "        3.14098251e+01, 1.64666937e+01, 3.87259260e+00, 2.28653692e+01,\n",
       "        8.88057476e+01, 5.46755381e+01, 6.77823553e+00, 1.58422928e+01,\n",
       "        1.81947631e+01, 2.53543002e+01, 6.94879944e+00, 1.69335694e+01,\n",
       "        1.26993662e+01, 1.97869525e+02, 2.01678659e+01, 5.67969115e+01,\n",
       "        1.35302035e+01, 5.62010363e+00, 4.48959110e+01, 1.66081354e+01,\n",
       "        1.39056810e+01, 2.33161941e+01, 1.47642461e+01, 2.96239405e+01,\n",
       "        7.66849621e+00, 1.13627799e+01, 4.09753762e+01, 5.68713822e+01,\n",
       "        1.14740196e+01, 2.92275141e+01, 1.53715815e+01, 2.23517842e+01,\n",
       "        7.77749613e+01, 1.89099074e+01, 7.86009669e+00, 6.13733717e+00,\n",
       "        2.02407000e+01, 6.12306902e+01, 5.06809024e+01, 4.99616265e+01,\n",
       "        9.60018860e+01, 4.51067529e+01, 6.46331336e+01, 6.86764344e+01,\n",
       "        6.81772315e+00, 4.09077584e+01, 8.45837806e+01, 5.11633767e+01,\n",
       "        3.13011963e+01, 1.05596346e+01, 1.37988398e+01, 2.49628030e+01,\n",
       "        2.41088347e+01, 1.91465372e+01, 7.19152281e+01, 1.49266263e+02,\n",
       "        3.93823324e+01, 3.25444590e-01, 1.57373304e+01, 3.91698324e+00,\n",
       "        8.39062219e+01, 1.35699862e+01, 5.49852090e+01, 1.41522521e+01,\n",
       "        7.16508934e+01, 3.14246807e+01, 1.04757523e+01, 2.85312487e+01,\n",
       "        1.48872222e+01, 6.43111658e+00, 5.78683497e+01, 2.78630428e+00,\n",
       "        1.41859980e+01, 2.54655820e+01, 3.14231596e+01, 2.83115261e+01,\n",
       "        8.53698363e+00, 3.50481293e+01, 6.47986765e+00, 3.21145556e+01,\n",
       "        3.70658546e+01, 2.18745031e+01, 5.50062366e+01, 1.22642222e+01,\n",
       "        1.60534985e+01, 2.62996348e+01, 7.45318784e+01, 1.37873633e+02,\n",
       "        1.95904577e+01, 2.04040513e+00, 3.14912103e+01, 2.83151815e+01,\n",
       "        3.51834542e+01, 3.58806719e+01, 3.05799534e+01, 2.64953372e+01,\n",
       "        8.49600000e+01, 7.38769014e+01, 1.81970074e+01, 3.69365763e+01,\n",
       "        7.15431241e+01, 6.94230027e+01, 8.35133333e+00, 1.08442516e+01,\n",
       "        1.69066655e+01, 8.76125927e+00, 2.85448210e+01, 3.21265839e+01,\n",
       "        5.24736931e+01, 3.42236640e+01, 1.11217314e+01, 9.00134797e-01,\n",
       "        1.89857163e+01, 1.46079111e+01, 2.45430231e+01, 1.64924288e+01,\n",
       "        1.15259237e+02, 1.74705982e+01, 9.99848359e+01, 1.04662680e+01,\n",
       "        3.18592443e+01, 2.06445556e+01, 5.46037275e+01, 1.84510749e+00,\n",
       "        3.34904374e+01, 1.68365150e-01, 1.47291183e+01, 6.49432343e+01,\n",
       "        5.89813213e+00, 2.57521842e+00, 6.13243778e+01, 1.76150331e+00,\n",
       "        8.85974606e+01, 2.06536931e+01, 3.70690133e+00, 1.92204220e+01,\n",
       "        2.01626849e+01, 2.34940367e+01, 5.21234380e+01, 1.09153334e+02,\n",
       "        2.34843697e+02, 8.33327389e+01, 1.25071788e+02, 6.02653309e+01,\n",
       "        1.02232942e+02, 7.04087982e+01, 3.70729150e+01, 2.10923412e+01,\n",
       "        1.81193529e+02, 5.47406046e+01, 1.19580137e+02, 2.28722236e+02,\n",
       "        1.07347628e+02, 1.35160449e+01, 8.48753086e+01, 3.15589814e+01,\n",
       "        1.01751103e+01, 3.66433395e+00, 5.03456669e+01, 4.24070000e+01,\n",
       "        4.55097843e+01, 7.22796072e+01, 3.32219968e+01, 3.28446814e+00,\n",
       "        1.79965199e+01, 5.92814418e+01, 9.20357885e+00, 2.38729887e+01,\n",
       "        6.69222790e+01, 6.77529220e+01, 7.94563165e+01, 7.52407584e+01,\n",
       "        1.50051711e+02, 2.04388889e+01, 1.28894019e+01, 2.11927948e+01,\n",
       "        3.86188750e+01, 4.69739364e-01, 1.62200683e+01, 2.09412958e+01,\n",
       "        4.52444022e+01, 2.05333007e+01, 4.42666983e+01, 1.60493954e+01,\n",
       "        6.09534006e+01, 2.60337068e+01, 1.16874756e+01, 6.05879216e+01,\n",
       "        8.25626952e+00, 8.38596818e+00, 3.75247846e+00, 2.90359067e+01,\n",
       "        9.12624996e+01, 9.88404806e-01, 2.99935755e+01, 7.81973791e+00,\n",
       "        4.03067852e+01, 4.32626151e+01, 1.44405015e+01, 6.39582630e+00,\n",
       "        4.41176113e+01, 3.24150001e+01, 1.42553196e+01, 5.21807579e+01,\n",
       "        4.08941954e+01, 6.86353851e+01, 2.31654225e+01, 1.50319337e+01,\n",
       "        7.82024885e+00, 6.83006455e+01, 8.81297901e+00, 1.90372576e+00,\n",
       "        1.05380029e+01, 1.18875180e+01, 1.97634782e+01, 1.89178705e+01,\n",
       "        3.86528295e+01, 1.17037069e+02, 3.70038692e+01, 5.75033305e+01,\n",
       "        3.79018145e+01, 7.70640849e+01, 8.46357424e+01, 5.02050654e+00,\n",
       "        6.20974217e+00, 3.50399359e+01, 2.19297078e+01, 1.22465325e+01,\n",
       "        1.13847678e+02, 4.63301612e+01, 1.26554844e+01, 5.38125121e+01,\n",
       "        9.14591457e+00, 6.77625521e+01, 5.72467778e+01, 1.84797782e+01,\n",
       "        3.67888429e+01, 5.91920345e+01, 6.19854721e+01, 2.41577023e+01,\n",
       "        2.67504614e+01, 2.02941433e+01, 4.05832635e+01, 9.34594869e+00,\n",
       "        3.43286733e+01, 2.77629890e+01, 2.78189251e+01, 1.23161000e+01,\n",
       "        2.08354928e+01, 1.22646591e+01, 1.04122591e+02, 2.72316283e+01,\n",
       "        1.33329170e+01, 2.93845245e+01, 7.66798196e+00, 5.97070000e+00,\n",
       "        1.06329060e+01, 1.40981661e+01, 3.97667438e+00, 1.52974262e+01,\n",
       "        8.69751323e+00, 7.45650152e+00, 2.84648726e+00, 7.56004525e+01,\n",
       "        4.67145952e+01, 6.39740211e+00, 7.67713224e+00, 1.79861798e+01,\n",
       "        3.18026200e+01, 1.20825828e+00, 1.62126225e+00, 1.68718983e+01,\n",
       "        6.63551414e+01, 1.67925196e+00, 7.58896633e+00, 2.48115995e+01,\n",
       "        9.19781841e+01, 6.14899346e+00, 2.28086624e+01, 6.08712479e+01,\n",
       "        3.21462888e+01, 6.68738662e+01, 2.00261420e-01, 9.69880325e+00,\n",
       "        9.33824075e+00, 6.68286129e+00, 1.29396849e+01, 6.50267496e+01,\n",
       "        8.15996138e+01, 4.56173938e+01, 5.27309792e+01, 4.09270014e+01,\n",
       "        6.82183333e+00, 5.62241695e+01, 6.98802800e+01, 1.73229549e+01,\n",
       "        3.63648501e+00, 3.44750010e+01, 1.05959381e+01, 2.68594462e+01,\n",
       "        1.15169764e+01, 5.03693362e+00, 2.26555432e+01, 5.90967793e+01,\n",
       "        1.75265752e+01, 1.70437420e+01, 1.28263086e+01, 2.25764910e+01,\n",
       "        2.32382896e+01, 7.62247930e+00, 2.24205955e+01, 1.37324863e+01,\n",
       "        4.02375269e+01, 2.16266500e+01, 3.59577775e+01, 7.59165820e+00,\n",
       "        1.07632407e+01, 1.68762000e+01, 5.03639372e+01, 3.35538996e+01,\n",
       "        9.67932673e+01, 5.12781742e+01, 4.57293239e+01, 8.91829672e-01,\n",
       "        2.88220378e+00, 1.05288899e+02, 3.04904580e+01, 2.96454446e+01,\n",
       "        3.56706367e+01, 4.11433143e+01, 5.75348956e+01, 2.47732478e+01,\n",
       "        8.64806262e+00, 2.02417242e+01, 7.14029576e+00, 3.04540827e+01,\n",
       "        1.81955695e+00, 9.43665396e+01, 1.64060960e+01, 9.49175727e+00,\n",
       "        3.35857355e+01, 2.42532928e+00, 1.06880543e+01, 1.03628128e+02,\n",
       "        2.32065477e+01, 4.32912500e+01, 1.30751587e+00, 2.21912447e+01,\n",
       "        1.07038539e+01, 1.29184815e+01, 1.39473054e+01, 6.53938631e+00,\n",
       "        3.06383873e+01, 6.11007846e+01, 9.02097143e+01, 1.94191621e+01,\n",
       "        5.85426131e+00, 6.57861588e+00]),\n",
       " 'rmse': 2.303,\n",
       " 'accuracy': 64.3926948521514}"
      ]
     },
     "execution_count": 40,
     "metadata": {},
     "output_type": "execute_result"
    }
   ],
   "source": [
    "vinaPerf"
   ]
  },
  {
   "cell_type": "code",
   "execution_count": null,
   "metadata": {},
   "outputs": [],
   "source": []
  },
  {
   "cell_type": "code",
   "execution_count": null,
   "metadata": {},
   "outputs": [],
   "source": [
    "phCoRFPerf['correlation'][1][0]"
   ]
  },
  {
   "cell_type": "code",
   "execution_count": null,
   "metadata": {},
   "outputs": [],
   "source": [
    "RFPerf['correlation'][1][0]"
   ]
  },
  {
   "cell_type": "code",
   "execution_count": 49,
   "metadata": {},
   "outputs": [
    {
     "name": "stdout",
     "output_type": "stream",
     "text": [
      "Number of samples in training set 4031\n",
      "Correlation Coefficient: R=0.988\n",
      "Accuracy: 92.41\n",
      "Mean absolute error: 0.4\n",
      "Standard error of the errors: 0.293\n",
      "RMSE: 0.499\n",
      "\n"
     ]
    },
    {
     "data": {
      "text/plain": [
       "0.6000456683452091"
      ]
     },
     "execution_count": 49,
     "metadata": {},
     "output_type": "execute_result"
    }
   ],
   "source": [
    "pdbbind2016Refined = readCasfIndex(\"/home/poltix/PDBBindIndexData/PDBBind2016/refinedSetIndex\")\n",
    "X_train2016, y_train2016 = preparingTrainingSet(pdbbind2018Features, affinityLabels, casf2016, mask=pdbbind2016Refined)\n",
    "rf500 = RandomForestRegressor(n_estimators=500, max_features=0.33, bootstrap=True, oob_score=True, n_jobs=-1)\n",
    "\n",
    "with open('/home/poltix/Documents/casf2016WMetalIon.pickle', 'rb') as fi:\n",
    "    casf2016Features = pickle.load(fi)\n",
    "casf2016 = casf2016Features[casf2016Features['pdb'].isin(casf2016dict.keys())]\n",
    "casf2016PKD = [affinityLabels[x] for x in casf2016['pdb']]\n",
    "casf2016_pdb = casf2016['pdb']\n",
    "casf2016 = casf2016.fillna(0)\n",
    "casf2016 = casf2016.drop('pdb', axis = 1)\n",
    "casf2016 = casf2016.drop('Affinity', axis = 1)\n",
    "for feat in casf2016Features.columns:\n",
    "    if feat not in X_train2016.columns:\n",
    "        casf2016Features.drop(feat, axis = 1, inplace = True)\n",
    "        \n",
    "casf2016Features = casf2016Features.reindex(sorted(casf2016Features.columns), axis=1)\n",
    "X_test2016 = casf2016Features\n",
    "y_test2016 = casf2016PKD\n",
    "rf500.fit(X_train2016,y_train2016)\n",
    "prd500 = rf500.predict(X_test2016)\n",
    "printPerformance(prd500, y_test2016)\n",
    "rf500.oob_score_"
   ]
  },
  {
   "cell_type": "code",
   "execution_count": null,
   "metadata": {},
   "outputs": [],
   "source": []
  }
 ],
 "metadata": {
  "kernelspec": {
   "display_name": "Python 3",
   "language": "python",
   "name": "python3"
  },
  "language_info": {
   "codemirror_mode": {
    "name": "ipython",
    "version": 3
   },
   "file_extension": ".py",
   "mimetype": "text/x-python",
   "name": "python",
   "nbconvert_exporter": "python",
   "pygments_lexer": "ipython3",
   "version": "3.6.8"
  }
 },
 "nbformat": 4,
 "nbformat_minor": 2
}
